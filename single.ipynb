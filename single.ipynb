{
  "cells": [
    {
      "cell_type": "code",
      "execution_count": null,
      "metadata": {
        "colab": {
          "base_uri": "https://localhost:8080/"
        },
        "id": "KLOIp4jX6cYg",
        "outputId": "02eecd7a-27e3-4c9a-e31a-99c1d31ce4bd"
      },
      "outputs": [
        {
          "name": "stdout",
          "output_type": "stream",
          "text": [
            "finished parse  36000  requests\n",
            "finished parse  25065  requests\n"
          ]
        }
      ],
      "source": [
        "from sklearn.feature_extraction.text import TfidfVectorizer\n",
        "from sklearn.model_selection import train_test_split\n",
        "from sklearn.linear_model import LogisticRegression\n",
        "import urllib.parse\n",
        "from sklearn import tree\n",
        "from sklearn import metrics\n",
        "import io\n",
        "from sklearn.svm import LinearSVC\n",
        "from sklearn.metrics import confusion_matrix\n",
        "normal_file_raw = '/content/drive/MyDrive/csic 2010(rar)/normalTrafficTraining.txt'\n",
        "anomaly_file_raw = '/content/drive/MyDrive/csic 2010(rar)/anomalousTrafficTest.txt'\n",
        "\n",
        "normal_file_parse = 'normalRequestTraining.txt'\n",
        "anomaly_file_parse = 'anomalousRequestTest.txt'\n",
        "\n",
        "\n",
        "\n",
        "def parse_file(file_in, file_out):\n",
        "    fin = open(file_in)\n",
        "    fout = io.open(file_out, \"w\", encoding=\"utf-8\")\n",
        "    lines = fin.readlines()\n",
        "    res = []\n",
        "    for i in range(len(lines)):\n",
        "        line = lines[i].strip()\n",
        "        if line.startswith(\"GET\"):\n",
        "            res.append(\"GET\" + line.split(\" \")[1])\n",
        "        elif line.startswith(\"POST\") or line.startswith(\"PUT\"):\n",
        "            url = line.split(' ')[0] + line.split(' ')[1]\n",
        "            j = 1\n",
        "            while True:\n",
        "                if lines[i + j].startswith(\"Content-Length\"):\n",
        "                    break\n",
        "                j += 1\n",
        "            j += 1\n",
        "            data = lines[i + j + 1].strip()\n",
        "            url += '?' + data\n",
        "            res.append(url)\n",
        "    for line in res:\n",
        "        line = urllib.parse.unquote(line).replace('\\n','').lower()\n",
        "        fout.writelines(line + '\\n')\n",
        "    print (\"finished parse \",len(res),\" requests\")\n",
        "    fout.close()\n",
        "    fin.close()\n",
        "\n",
        "\n",
        "\n",
        "def loadData(file):\n",
        "    with open(file, 'r', encoding=\"utf8\") as f:\n",
        "        data = f.readlines()\n",
        "    result = []\n",
        "    for d in data:\n",
        "        d = d.strip()\n",
        "        if (len(d) > 0):\n",
        "            result.append(d)\n",
        "    return result\n",
        "\n",
        "\n",
        "\n",
        "parse_file(normal_file_raw,normal_file_parse)\n",
        "parse_file(anomaly_file_raw,anomaly_file_parse)\n",
        "\n",
        "bad_requests = loadData('anomalousRequestTest.txt')\n",
        "good_requests = loadData('normalRequestTraining.txt')\n",
        "\n",
        "all_requests = bad_requests + good_requests\n",
        "yBad = [1] * len(bad_requests)\n",
        "yGood = [0] * len(good_requests)\n",
        "y = yBad + yGood\n",
        "vectorizer = TfidfVectorizer(min_df=0.0, analyzer=\"char\", sublinear_tf=True, ngram_range=(3, 3))\n",
        "X = vectorizer.fit_transform(all_requests)\n",
        "X_train, X_test, y_train, y_test = train_test_split(X, y, test_size=0.1, random_state=21)"
      ]
    },
    {
      "cell_type": "code",
      "execution_count": null,
      "metadata": {
        "colab": {
          "base_uri": "https://localhost:8080/"
        },
        "id": "fo6EYSlzAb0z",
        "outputId": "1bd323bb-be91-4708-b88b-860a9008a468"
      },
      "outputs": [
        {
          "name": "stdout",
          "output_type": "stream",
          "text": [
            "Score Linear SVM : 0.9975438021942034\n"
          ]
        }
      ],
      "source": [
        "#Linear SVM\n",
        "linear_svm=LinearSVC(C=1)\n",
        "linear_svm.fit(X_train, y_train)\n",
        "y_pred = linear_svm.predict(X_test)\n",
        "score_test = metrics.accuracy_score(y_test, y_pred)\n",
        "matrix = confusion_matrix(y_test, y_pred)\n",
        "print (\"Score Linear SVM :\",score_test)"
      ]
    },
    {
      "cell_type": "code",
      "execution_count": null,
      "metadata": {
        "colab": {
          "base_uri": "https://localhost:8080/"
        },
        "id": "07QG04UvAtO8",
        "outputId": "69006553-95c2-4f38-a751-bc24c2bb9a94"
      },
      "outputs": [
        {
          "name": "stdout",
          "output_type": "stream",
          "text": [
            "Score Decesion Tree : 0.9923039135418372\n"
          ]
        }
      ],
      "source": [
        "#Decision Tree\n",
        "dtc = tree.DecisionTreeClassifier()\n",
        "dtc.fit(X_train, y_train)\n",
        "y_pred = dtc.predict(X_test)\n",
        "score_test = metrics.accuracy_score(y_test, y_pred)\n",
        "matrix = confusion_matrix(y_test, y_pred)\n",
        "print (\"Score Decesion Tree :\",score_test)"
      ]
    },
    {
      "cell_type": "code",
      "execution_count": null,
      "metadata": {
        "colab": {
          "base_uri": "https://localhost:8080/"
        },
        "id": "WJ3F3brDBJew",
        "outputId": "3284c35d-4e65-4bd7-cf10-fa0fc957e44c"
      },
      "outputs": [
        {
          "name": "stdout",
          "output_type": "stream",
          "text": [
            "Score Logistic Regression : 0.981824136237105\n"
          ]
        }
      ],
      "source": [
        "#logistic regression\n",
        "lgs = LogisticRegression( max_iter=3000)\n",
        "lgs.fit(X_train, y_train)\n",
        "y_pred = lgs.predict(X_test)\n",
        "score_test = metrics.accuracy_score(y_test, y_pred)\n",
        "print (\"Score Logistic Regression :\",score_test)"
      ]
    },
    {
      "cell_type": "code",
      "execution_count": null,
      "metadata": {
        "colab": {
          "base_uri": "https://localhost:8080/"
        },
        "id": "xmuJIraW_3wi",
        "outputId": "61221802-9e12-4f81-be22-05a2cfa0a43b"
      },
      "outputs": [
        {
          "name": "stdout",
          "output_type": "stream",
          "text": [
            "Score Random Forest : 0.985917799246766\n"
          ]
        }
      ],
      "source": [
        "#Random Forest\n",
        "from sklearn.ensemble import RandomForestClassifier\n",
        "rfc = RandomForestClassifier(n_estimators=200)\n",
        "rfc.fit(X_train, y_train)\n",
        "y_pred = rfc.predict(X_test)\n",
        "score_test = metrics.accuracy_score(y_test, y_pred)\n",
        "print (\"Score Random Forest :\",score_test)"
      ]
    },
    {
      "cell_type": "code",
      "execution_count": null,
      "metadata": {
        "colab": {
          "base_uri": "https://localhost:8080/"
        },
        "id": "8p-5rSZO-mF4",
        "outputId": "bd20fd45-464e-40ed-fc1d-25f623355cb5"
      },
      "outputs": [
        {
          "name": "stdout",
          "output_type": "stream",
          "text": [
            "Accuracy Score:  0.9896839692156542\n"
          ]
        }
      ],
      "source": [
        "#KNeighborsClassifier\n",
        "from sklearn.neighbors import KNeighborsClassifier\n",
        "knn = KNeighborsClassifier(n_neighbors=1, metric='manhattan')\n",
        "\n",
        "knn.fit(X_train, y_train)\n",
        "y_pred = knn.predict(X_test)\n",
        "\n",
        "print(\"Accuracy Score: \", metrics.accuracy_score(y_test, y_pred))"
      ]
    },
    {
      "cell_type": "code",
      "execution_count": null,
      "metadata": {
        "colab": {
          "base_uri": "https://localhost:8080/"
        },
        "id": "NGk0UQnP6y8z",
        "outputId": "f4bbe5e0-5ef2-4829-a7f6-8846610838fd"
      },
      "outputs": [
        {
          "name": "stderr",
          "output_type": "stream",
          "text": [
            "/usr/local/lib/python3.10/dist-packages/sklearn/ensemble/_base.py:166: FutureWarning: `base_estimator` was renamed to `estimator` in version 1.2 and will be removed in 1.4.\n",
            "  warnings.warn(\n"
          ]
        },
        {
          "name": "stdout",
          "output_type": "stream",
          "text": [
            "Accuracy: 0.8151301784837072\n"
          ]
        }
      ],
      "source": [
        "#AdaBoost.M1 classifier\n",
        "from sklearn.datasets import load_iris\n",
        "from sklearn.ensemble import AdaBoostClassifier\n",
        "from sklearn.tree import DecisionTreeClassifier\n",
        "from sklearn.model_selection import train_test_split\n",
        "from sklearn.metrics import accuracy_score\n",
        "base_classifier = DecisionTreeClassifier(max_depth=1)\n",
        "adaboost = AdaBoostClassifier(base_estimator=base_classifier, n_estimators=10, algorithm='SAMME')\n",
        "adaboost.fit(X_train, y_train)\n",
        "y_pred = adaboost.predict(X_test)\n",
        "accuracy = accuracy_score(y_test, y_pred)\n",
        "print(\"Accuracy:\", accuracy)"
      ]
    },
    {
      "cell_type": "code",
      "execution_count": null,
      "metadata": {
        "colab": {
          "base_uri": "https://localhost:8080/"
        },
        "id": "_NOBo7w-7QCQ",
        "outputId": "0a4fbbc3-3951-4fe8-f665-c17049ed78e5"
      },
      "outputs": [
        {
          "name": "stdout",
          "output_type": "stream",
          "text": [
            "Accuracy: 0.7669887014900933\n"
          ]
        }
      ],
      "source": [
        "#Decision Stump classifier\n",
        "from sklearn.datasets import load_iris\n",
        "from sklearn.tree import DecisionTreeClassifier\n",
        "from sklearn.model_selection import train_test_split\n",
        "from sklearn.metrics import accuracy_score\n",
        "decision_stump = DecisionTreeClassifier(max_depth=1)\n",
        "decision_stump.fit(X_train, y_train)\n",
        "y_pred = decision_stump.predict(X_test)\n",
        "accuracy = accuracy_score(y_test, y_pred)\n",
        "print(\"Accuracy:\", accuracy)"
      ]
    },
    {
      "cell_type": "code",
      "execution_count": null,
      "metadata": {
        "colab": {
          "base_uri": "https://localhost:8080/"
        },
        "id": "N8Rmc7EC7fQC",
        "outputId": "123c32fe-21fb-4541-f454-f3f9830e1dfd"
      },
      "outputs": [
        {
          "name": "stdout",
          "output_type": "stream",
          "text": [
            "Accuracy: 0.9418699852628132\n"
          ]
        }
      ],
      "source": [
        "# GradientBoosting import libraries\n",
        "from sklearn.ensemble import GradientBoostingClassifier\n",
        "from sklearn.datasets import make_classification\n",
        "from sklearn.model_selection import train_test_split\n",
        "from sklearn.metrics import accuracy_score\n",
        "gb = GradientBoostingClassifier(n_estimators=100, learning_rate=0.1, max_depth=3, random_state=42)\n",
        "gb.fit(X_train, y_train)\n",
        "y_pred = gb.predict(X_test)\n",
        "accuracy = accuracy_score(y_test, y_pred)\n",
        "print(\"Accuracy:\", accuracy)"
      ]
    }
  ],
  "metadata": {
    "colab": {
      "provenance": []
    },
    "kernelspec": {
      "display_name": "Python 3",
      "name": "python3"
    },
    "language_info": {
      "name": "python"
    }
  },
  "nbformat": 4,
  "nbformat_minor": 0
}